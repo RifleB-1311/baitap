{
  "nbformat": 4,
  "nbformat_minor": 0,
  "metadata": {
    "colab": {
      "provenance": [],
      "authorship_tag": "ABX9TyNffzkD+g0d/2L2ip6ItITa",
      "include_colab_link": true
    },
    "kernelspec": {
      "name": "python3",
      "display_name": "Python 3"
    },
    "language_info": {
      "name": "python"
    }
  },
  "cells": [
    {
      "cell_type": "markdown",
      "metadata": {
        "id": "view-in-github",
        "colab_type": "text"
      },
      "source": [
        "<a href=\"https://colab.research.google.com/github/RifleB-1311/baitap/blob/main/Bai1.ipynb\" target=\"_parent\"><img src=\"https://colab.research.google.com/assets/colab-badge.svg\" alt=\"Open In Colab\"/></a>"
      ]
    },
    {
      "cell_type": "markdown",
      "source": [
        "Hãy viết hàm đọc dữ liệu từ tập tin sau, yêu cầu:\n",
        "- Trích X, y ra từ dữ liệu gốc\n",
        "- Chỉnh sửa X thêm 1 cột vector 1 vào bên trái\n",
        "- Trả về X và y\n",
        "- Hàm đặt tên là readData(folder, filename)\n",
        "- folder và filename là 2 tham số kiểu string chứa đường dẫn thư mục và tên tập tin dữ liệu"
      ],
      "metadata": {
        "id": "VfjobIDWVXGX"
      }
    },
    {
      "cell_type": "code",
      "execution_count": 1,
      "metadata": {
        "id": "eJB33ZoVVV60"
      },
      "outputs": [],
      "source": [
        "import numpy as np\n",
        "import os\n",
        "from google.colab import drive\n",
        "\n",
        "def readdata(folder,filename):\n",
        "  drive.mount(\"/content/drive\")\n",
        "  data=np.loadtxt(os.path.join(folder,filename),delimiter=',')\n",
        "  X=data[:,0]\n",
        "  y=data[:,1]\n",
        "  return X,y"
      ]
    }
  ]
}