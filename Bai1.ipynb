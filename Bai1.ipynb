{
  "nbformat": 4,
  "nbformat_minor": 0,
  "metadata": {
    "colab": {
      "provenance": [],
      "mount_file_id": "1vaPQfSw4bclu9_kxn5JF7rFemMPaLRCQ",
      "authorship_tag": "ABX9TyN/xmyPuiYdv+9gPVAyztT2",
      "include_colab_link": true
    },
    "kernelspec": {
      "name": "python3",
      "display_name": "Python 3"
    },
    "language_info": {
      "name": "python"
    }
  },
  "cells": [
    {
      "cell_type": "markdown",
      "metadata": {
        "id": "view-in-github",
        "colab_type": "text"
      },
      "source": [
        "<a href=\"https://colab.research.google.com/github/RifleB-1311/baitap/blob/main/Bai1.ipynb\" target=\"_parent\"><img src=\"https://colab.research.google.com/assets/colab-badge.svg\" alt=\"Open In Colab\"/></a>"
      ]
    },
    {
      "cell_type": "markdown",
      "source": [
        "Hãy viết hàm đọc dữ liệu từ tập tin sau, yêu cầu:\n",
        "- Trích X, y ra từ dữ liệu gốc\n",
        "- Chỉnh sửa X thêm 1 cột vector 1 vào bên trái\n",
        "- Trả về X và y\n",
        "- Hàm đặt tên là readData(folder, filename)\n",
        "- folder và filename là 2 tham số kiểu string chứa đường dẫn thư mục và tên tập tin dữ liệu"
      ],
      "metadata": {
        "id": "SDOKoswKXqwf"
      }
    },
    {
      "cell_type": "code",
      "execution_count": 9,
      "metadata": {
        "id": "XqnTayttXnbz"
      },
      "outputs": [],
      "source": [
        "import os\n",
        "import numpy as np\n",
        "from matplotlib import pyplot as plt\n",
        "\n",
        "def readData(folder, filename):\n",
        "    data = np.loadtxt(os.path.join(folder, filename), delimiter=',')\n",
        "    print('Original data shape', data.shape)\n",
        "    X = data[:,0]\n",
        "    print('X shape: ', X.shape)\n",
        "    y = data[:,1]\n",
        "    print('y shape: ', y.shape)\n",
        "    m = y.shape[0]\n",
        "    print('Number of training examples m = ', m)\n",
        "    X = np.stack([np.ones(m), X], axis=1)\n",
        "    print('Modified X shape: ', X.shape)\n",
        "    return X, y\n",
        "\n"
      ]
    }
  ]
}