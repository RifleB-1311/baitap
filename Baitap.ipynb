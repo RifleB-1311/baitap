{
  "nbformat": 4,
  "nbformat_minor": 0,
  "metadata": {
    "colab": {
      "name": "Baitap.ipynb",
      "provenance": [],
      "authorship_tag": "ABX9TyMnhxH/DxzQMIJp37/kPGht",
      "include_colab_link": true
    },
    "kernelspec": {
      "name": "python3",
      "display_name": "Python 3"
    },
    "language_info": {
      "name": "python"
    }
  },
  "cells": [
    {
      "cell_type": "markdown",
      "metadata": {
        "id": "view-in-github",
        "colab_type": "text"
      },
      "source": [
        "<a href=\"https://colab.research.google.com/github/RifleB-1311/baitap/blob/main/Baitap.ipynb\" target=\"_parent\"><img src=\"https://colab.research.google.com/assets/colab-badge.svg\" alt=\"Open In Colab\"/></a>"
      ]
    },
    {
      "cell_type": "code",
      "metadata": {
        "colab": {
          "base_uri": "https://localhost:8080/"
        },
        "id": "H9Z4V6fGKcyW",
        "outputId": "cb6df2d5-48f9-49b0-a47b-b28349cf4584"
      },
      "source": [
        "# 1)\n",
        "x=[]\n",
        "\n",
        "# 2)\n",
        "x=[18]\n",
        "\n",
        "# 3)\n",
        "x=[18,\"Huế\"]\n",
        "\n",
        "# 4)\n",
        "y=[12,45,-1,-0.56,\"abc\"]\n",
        "\n",
        "# 5)\n",
        "x+=y\n",
        "\n",
        "# 6)\n",
        "print(x)\n",
        "\n",
        "# 7)\n",
        "a=x[0]\n",
        "print(\"Phần tử đầu tiên của x là : \",a)\n",
        "b=x[6]\n",
        "print(\"Phần tử cuối cùng của x là : \",b)\n",
        "\n",
        "# 8)\n",
        "c= x[:5]\n",
        "print(\"Phần tử đầu đến phần tử thứ 5 của x là:  \",c)\n",
        "\n",
        "# 9)\n",
        "d= x[2:]\n",
        "print(\"Phần tử thứ 3 đến cuối của x là: \",d)"
      ],
      "execution_count": 30,
      "outputs": [
        {
          "output_type": "stream",
          "name": "stdout",
          "text": [
            "[18, 'Huế', 12, 45, -1, -0.56, 'abc']\n",
            "Phần tử đầu tiên của x là :  18\n",
            "Phần tử cuối cùng của x là :  abc\n",
            "Phần tử đầu đến phần tử thứ 5 của x là:   [18, 'Huế', 12, 45, -1]\n",
            "Phần tử thứ 3 đến cuối của x là:  [12, 45, -1, -0.56, 'abc']\n"
          ]
        }
      ]
    }
  ]
}