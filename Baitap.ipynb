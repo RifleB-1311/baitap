{
  "nbformat": 4,
  "nbformat_minor": 0,
  "metadata": {
    "colab": {
      "name": "Baitap.ipynb",
      "provenance": [],
      "collapsed_sections": [],
      "authorship_tag": "ABX9TyMJ7lfH2cFMZ5LXI/Nk3QxK",
      "include_colab_link": true
    },
    "kernelspec": {
      "name": "python3",
      "display_name": "Python 3"
    },
    "language_info": {
      "name": "python"
    }
  },
  "cells": [
    {
      "cell_type": "markdown",
      "metadata": {
        "id": "view-in-github",
        "colab_type": "text"
      },
      "source": [
        "<a href=\"https://colab.research.google.com/github/RifleB-1311/baitap/blob/main/Baitap.ipynb\" target=\"_parent\"><img src=\"https://colab.research.google.com/assets/colab-badge.svg\" alt=\"Open In Colab\"/></a>"
      ]
    },
    {
      "cell_type": "code",
      "metadata": {
        "colab": {
          "base_uri": "https://localhost:8080/"
        },
        "id": "TYbAmALfpDmA",
        "outputId": "8aa43981-3a69-43e7-8719-d27bec93b716"
      },
      "source": [
        "#Baitap1\n",
        "a = input(\"a = \")\n",
        "b = input(\"b = \")\n",
        "a = int(a)\n",
        "b = int(b)\n",
        "#Tích\n",
        "tich=a*b\n",
        "print(\"Tích của 2 số là :\" + str(tich))\n",
        "#Tổng: \n",
        "tong=a+b\n",
        "print(\"Tổng của 2 số là: \" + str(tong))\n",
        "#Hiệu\n",
        "hieu=a-b\n",
        "hieu1=b-a\n",
        "print(\"Hiệu của 2 số là:\" + str(hieu) + \" hoặc \" + str(hieu1))\n",
        "#Phép chia lấy phần dư của 2 số:\n",
        "du = a % b\n",
        "print(\"Phần dư là: \" + str(du))\n",
        "#Phép chia lấy phần nguyên của 2 số:\n",
        "nguyen= a // b\n",
        "print(\"Phần nguyên là: \" + str(nguyen))"
      ],
      "execution_count": null,
      "outputs": [
        {
          "output_type": "stream",
          "name": "stdout",
          "text": [
            "a = 9\n",
            "b = 2\n",
            "Tích của 2 số là :18\n",
            "Tổng của 2 số là: 11\n",
            "Hiệu của 2 số là:7 hoặc -7\n",
            "Phần dư là: 1\n",
            "Phần nguyên là: 4\n"
          ]
        }
      ]
    },
    {
      "cell_type": "code",
      "metadata": {
        "colab": {
          "base_uri": "https://localhost:8080/"
        },
        "id": "nQ-ZotjksRf5",
        "outputId": "75961b38-fb6f-47f1-c799-c5c5d6e75d86"
      },
      "source": [
        "#Baitap2\n",
        "x= float(input(\"x = \"))\n",
        "y= float(input(\"y = \"))\n",
        "#Tổng\n",
        "tong=x+y\n",
        "print(\"Tổng của 2 số là: \" + str(tong))\n",
        "#Tích\n",
        "tich=x*y\n",
        "print(\"Tích của 2 số là: \" +str(tich))\n",
        "#Hiệu\n",
        "hieu=x-y\n",
        "hieu1=y-x\n",
        "print(\"Hiệu của 2 số là: \" + str(hieu) + \" hoặc \" + str(hieu1))\n",
        "#Thương\n",
        "thuong = a/b\n",
        "thuong1 = b/a\n",
        "print(\"Thương của 2 số là: \" + str(thuong) + \" hoặc \" + str(thuong1))"
      ],
      "execution_count": null,
      "outputs": [
        {
          "output_type": "stream",
          "name": "stdout",
          "text": [
            "x = 6\n",
            "y = 9\n",
            "Tổng của 2 số là: 15.0\n",
            "Tích của 2 số là: 54.0\n",
            "Hiệu của 2 số là: -3.0 hoặc 3.0\n",
            "Thương của 2 số là: 4.5 hoặc 0.2222222222222222\n"
          ]
        }
      ]
    },
    {
      "cell_type": "code",
      "metadata": {
        "colab": {
          "base_uri": "https://localhost:8080/"
        },
        "id": "Cvj_TKHAvD4h",
        "outputId": "5dcc260a-6645-4ebc-f471-eae5ec418105"
      },
      "source": [
        "#Baitap3\n",
        "#Trịtuyedoi\n",
        "import math\n",
        "a = float(input(\"nhập số: \"))\n",
        "print('Giá trị tuyệt đối của ',a, 'là: ', abs(a))\n",
        "#Lấyphannguyen\n",
        "print(\"Phần nguyên của \"+str(a)+ \" là \"+str(int(a)))\n",
        "#Chuyển thành số thực\n",
        "a=float(a)\n",
        "print(\"Số thực là: \",a)\n",
        "#Nhapthemsotinhtoan\n",
        "b = float(input(\"Nhập số tiếp theo:\"))\n",
        "c = a**b\n",
        "print(\"Kết quả là:\" + str(c))\n",
        "#Tínhcan\n",
        "d = math.sqrt(a)\n",
        "print(\"Kết quả của căn \",a,\"là\",d)\n"
      ],
      "execution_count": 34,
      "outputs": [
        {
          "output_type": "stream",
          "name": "stdout",
          "text": [
            "nhập số: 2\n",
            "Giá trị tuyệt đối của  2.0 là:  2.0\n",
            "Phần nguyên của 2.0 là 2\n",
            "Số thực là:  2.0\n",
            "Nhập số tiếp theo:3\n",
            "Kết quả là:8.0\n",
            "Kết quả của căn  2.0 là 1.4142135623730951\n"
          ]
        }
      ]
    },
    {
      "cell_type": "code",
      "metadata": {
        "colab": {
          "base_uri": "https://localhost:8080/"
        },
        "id": "nNkADXJuKUiJ",
        "outputId": "3526a7eb-87f0-4d2f-9d35-6146ace0389f"
      },
      "source": [
        "#Bàitap4\n",
        "#Sosanh\n",
        "x=input(\"Nhập x :\")\n",
        "y=input(\"Nhập y :\")\n",
        "print(\"x >= y\",x>=y)\n",
        "print(\"x <= y\",x<=y)\n",
        "print(\"x > y\",x>y)\n",
        "print(\"x < y\",x<y)\n",
        "print(\"x khác y\",x!=y)"
      ],
      "execution_count": 63,
      "outputs": [
        {
          "output_type": "stream",
          "name": "stdout",
          "text": [
            "Nhập x :2\n",
            "Nhập y :3\n",
            "x >= y False\n",
            "x <= y True\n",
            "x > y False\n",
            "x < y True\n",
            "x khác y True\n"
          ]
        }
      ]
    },
    {
      "cell_type": "code",
      "metadata": {
        "colab": {
          "base_uri": "https://localhost:8080/"
        },
        "id": "ZyIcZCCUORHS",
        "outputId": "c571af65-e2ed-486c-a039-3a344e590416"
      },
      "source": [
        "#Bàitap5\n",
        "#Chuyểnthanhinhoa\n",
        "a= input(\"Nhập chuỗi: \")\n",
        "print(\"In hoa: \",str.upper(a))\n",
        "#Chuyểnthanhinthuong\n",
        "b= input(\"Nhập chuỗi: \")\n",
        "print(\"In thường\",str.lower(b))"
      ],
      "execution_count": 62,
      "outputs": [
        {
          "output_type": "stream",
          "name": "stdout",
          "text": [
            "Nhập chuỗi: Bách\n",
            "In hoa:  BÁCH\n",
            "Nhập chuỗi: BÁCH\n",
            "In thường bách\n"
          ]
        }
      ]
    },
    {
      "cell_type": "code",
      "metadata": {
        "colab": {
          "base_uri": "https://localhost:8080/"
        },
        "id": "RkXoJPY6Owox",
        "outputId": "348909d8-246f-4287-da92-b8c312b76411"
      },
      "source": [
        "#Bàitap6\n",
        "print(\"Con cò bé bé\\nNó đậu cành tre\\nĐi không hỏi mẹ\\nBiết đi đường nào\")"
      ],
      "execution_count": 60,
      "outputs": [
        {
          "output_type": "stream",
          "name": "stdout",
          "text": [
            "Con cò bé bé\n",
            "Nó đậu cành tre\n",
            "Đi không hỏi mẹ\n",
            "Biết đi đường nào\n"
          ]
        }
      ]
    }
  ]
}