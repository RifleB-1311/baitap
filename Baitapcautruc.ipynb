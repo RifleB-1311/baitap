{
  "nbformat": 4,
  "nbformat_minor": 0,
  "metadata": {
    "colab": {
      "name": "Baitapcautruc.ipynb",
      "provenance": [],
      "authorship_tag": "ABX9TyNi0YTr2v8HbkZxnVSQNq9m",
      "include_colab_link": true
    },
    "kernelspec": {
      "name": "python3",
      "display_name": "Python 3"
    },
    "language_info": {
      "name": "python"
    }
  },
  "cells": [
    {
      "cell_type": "markdown",
      "metadata": {
        "id": "view-in-github",
        "colab_type": "text"
      },
      "source": [
        "<a href=\"https://colab.research.google.com/github/RifleB-1311/baitap/blob/main/Baitapcautruc.ipynb\" target=\"_parent\"><img src=\"https://colab.research.google.com/assets/colab-badge.svg\" alt=\"Open In Colab\"/></a>"
      ]
    },
    {
      "cell_type": "code",
      "metadata": {
        "id": "NgMUGhUONR54"
      },
      "source": [
        "#Kiểu list\n",
        "# 1) Khởi tạo\n",
        "list1 = ['physics', 'chemistry', 1997, 2000]\n",
        "list2 = [1, 2, 3, 4, 5 ]\n",
        "list3 = [\"a\", \"b\", \"c\", \"d\"]\n",
        "# 2) Truy cập đến các phần tử\n",
        "list1 = ['physics', 'chemistry', 1997, 2000]\n",
        "list2 = [1, 2, 3, 4, 5, 6, 7 ]\n",
        "print(\"list1[0]: \", list1[0])\n",
        "print(\"list2[1:5]: \", list2[1:5])\n",
        "# 3) Thay đổi giá trị phần tử của List\n",
        "list = ['physics', 'chemistry', 1997, 2000]\n",
        "print(\"Value available at index 2 : \")\n",
        "print(list[2])\n",
        "list[2] = 2001\n",
        "print(\"New value available at index 2 : \")\n",
        "print(list[2])\n",
        "# 4) Xóa phần tử của List\n",
        "list1 = ['physics', 'chemistry', 1997, 2000]\n",
        "print(list1)\n",
        "del list1[2]\n",
        "print(\"After deleting value at index 2 : \")\n",
        "print(list1)"
      ],
      "execution_count": null,
      "outputs": []
    },
    {
      "cell_type": "code",
      "metadata": {
        "id": "2Kb4LCjPOVHH"
      },
      "source": [
        "# Kiểu tuples\n",
        "# 1) Khởi tạo Tuples\n",
        "tup1 = ('physics', 'chemistry', 1997, 2000)\n",
        "tup2 = (1, 2, 3, 4, 5 )\n",
        "tup3 = \"a\", \"b\", \"c\", \"d\"\n",
        "tup1 = ()\n",
        "tup1 = (50,)\n",
        "# 2) Truy cập các phần tử của Tuples\n",
        "tup1 = ('physics', 'chemistry', 1997, 2000)\n",
        "tup2 = (1, 2, 3, 4, 5, 6, 7 )\n",
        "print(\"tup1[0]: \", tup1[0])\n",
        "print(\"tup2[1:5]: \", tup2[1:5])\n",
        "# 3) Thay đổi giá trị phần tử của Tuples\n",
        "tup1 = (12, 34.56)\n",
        "tup2 = ('abc', 'xyz')\n",
        "tup3 = tup1 + tup2\n",
        "print(tup3)\n",
        "# 4) Xóa phần tử của Tuples\n",
        "tup = ('physics', 'chemistry', 1997, 2000)\n",
        "print(tup)\n",
        "del tup\n",
        "print(\"After deleting tup : \")\n",
        "print(tup)"
      ],
      "execution_count": null,
      "outputs": []
    },
    {
      "cell_type": "code",
      "metadata": {
        "id": "rOfcyCHcQSIE"
      },
      "source": [
        "# Kiểu Dictionary\n",
        "# 1) Khởi tạo và truy cập Dictionary\n",
        "dict = {'Name': 'Zara', 'Age': 7, 'Class': 'First'}\n",
        "print(\"dict['Name']: \", dict['Name'])\n",
        "print(\"dict['Age']: \", dict['Age'])\n",
        "# 2) Thay đổi giá trị phần tử\n",
        "dict = {'Name': 'Zara', 'Age': 7, 'Class': 'First'}\n",
        "dict['Age'] = 8; # update existing entry\n",
        "dict['School'] = \"DPS School\"; # Add new entry\n",
        "print(\"dict['Age']: \", dict['Age'])\n",
        "print(\"dict['School']: \", dict['School'])\n",
        "# 3) Xóa phần tử của Dictionary\n",
        "dict = {'Name': 'Zara', 'Age': 7, 'Class': 'First'}\n",
        "del dict['Name'] # remove entry with key 'Name'\n",
        "dict.clear() # remove all entries in dict\n",
        "del dict # delete entire dictionary"
      ],
      "execution_count": null,
      "outputs": []
    },
    {
      "cell_type": "code",
      "metadata": {
        "id": "KFQEkqAKQmCa"
      },
      "source": [
        "# Kiểu Set\n",
        "# 1) Khởi tạo\n",
        "Set = set([\"a\", \"b\", \"c\"])\n",
        "print(\"Set: \")\n",
        "print(Set)\n",
        "# Adding element to the set\n",
        "Set.add(\"d\")\n",
        "print(\"\\nSet after adding: \")\n",
        "print(Set)\n",
        "# 2) Thêm phần tử\n",
        "people = {\"Jay\", \"Idrish\", \"Archi\"}\n",
        "print(\"People: \")\n",
        "print(people)\n",
        "people.add(\"Daxit\")\n",
        "for i in range(1, 6):\n",
        "people.add(i)\n",
        "print(\"\\nSet after adding element:\", end = \" \")\n",
        "print(people)\n",
        "# 3) Bớt phần tử\n",
        "Days=set([\"Mon\",\"Tue\",\"Wed\",\"Thu\",\"Fri\",\"Sat\"])\n",
        "Days.discard(\"Sun\")\n",
        "print(Days)\n",
        "# 4) Xóa toàn bộ\n",
        "set1 = {1,2,3,4,5,6}\n",
        "print(\"Initial set\")\n",
        "print(set1)\n",
        "# This method will remove\n",
        "# all the elements of the set\n",
        "set1.clear()\n",
        "print(\"\\nSet after using clear() function\")\n",
        "print(set1)\n",
        "# 5) Phép hợp\n",
        "people = {\"Jay\", \"Idrish\", \"Archil\"}\n",
        "vampires = {\"Karan\", \"Arjun\"}\n",
        "dracula = {\"Deepanshu\", \"Raju\"}\n",
        "# Union using union() function\n",
        "population = people.union(vampires)\n",
        "print(\"Union using union() function\")\n",
        "print(population)\n",
        "# Union using \"|\" operator\n",
        "population = people|dracula\n",
        "print(\"\\nUnion using '|' operator\")\n",
        "print(population)\n",
        "# 6) Phép giao\n",
        "set1 = set()\n",
        "for i in range(5):\n",
        "set1.add(i)\n",
        "set2 = {3, 4, 5, 6, 7, 8}\n",
        "# Intersection using intersection() function\n",
        "set3 = set1.intersection(set2)\n",
        "print(\"Intersection using intersection() function\")\n",
        "print(set3)\n",
        "# Intersection using \"&\" operator\n",
        "set3 = set1 & set2\n",
        "print(\"\\nIntersection using '&' operator\")\n",
        "print(set3)\n",
        "# 7) Phép hiệu\n",
        "set1 = set()\n",
        "for i in range(5):\n",
        "set1.add(i)\n",
        "set2 = {3, 4, 5, 6, 7, 8}\n",
        "# Difference of two sets using difference() function\n",
        "set3 = set1.difference(set2)\n",
        "print(\" Difference of two sets using difference() function\")\n",
        "print(set3)\n",
        "# Difference of two sets using '-' operator\n",
        "set3 = set1 - set2\n",
        "print(\"\\nDifference of two sets using '-' operator\")\n",
        "print(set3)\n",
        "# 8) Kiểm tra tập con - tập cha\n",
        "DaysA = set([\"Mon\",\"Tue\",\"Wed\"])\n",
        "DaysB = set([\"Mon\",\"Tue\",\"Wed\",\"Thu\",\"Fri\",\"Sat\",\"Sun\"])\n",
        "SubsetRes = DaysA <= DaysB\n",
        "SupersetRes = DaysB >= DaysA\n",
        "print(SubsetRes)\n",
        "print(SupersetRes)"
      ],
      "execution_count": null,
      "outputs": []
    },
    {
      "cell_type": "code",
      "metadata": {
        "colab": {
          "base_uri": "https://localhost:8080/"
        },
        "id": "wJzoAA7wRU8E",
        "outputId": "0116ee83-f390-487d-8111-aa2563051b55"
      },
      "source": [
        "# Kiểu Date&Time\n",
        "# 1) Lấy thời gian hiện tại\n",
        "import time; # This is required to include time module.\n",
        "ticks = time.time()\n",
        "print(\"Number of ticks since 12:00am, January 1, 1970:\", ticks)\n",
        "#Number of ticks since 12:00am, January 1, 1970: 7186862.73399\n",
        "localtime = time.localtime(time.time())\n",
        "print(\"Local current time :\", localtime)\n",
        "# 2) Định dạng thời gian\n",
        "import time;\n",
        "localtime = time.asctime( time.localtime(time.time()) )\n",
        "print(\"Local current time :\", localtime)\n",
        "# 3) Lấy lịch 1 tháng\n",
        "import calendar\n",
        "cal = calendar.month(2008, 1)\n",
        "print(\"Here is the calendar:\")\n",
        "print(cal)\n"
      ],
      "execution_count": 7,
      "outputs": [
        {
          "output_type": "stream",
          "name": "stdout",
          "text": [
            "Number of ticks since 12:00am, January 1, 1970: 1632964593.3664289\n",
            "Local current time : time.struct_time(tm_year=2021, tm_mon=9, tm_mday=30, tm_hour=1, tm_min=16, tm_sec=33, tm_wday=3, tm_yday=273, tm_isdst=0)\n",
            "Local current time : Thu Sep 30 01:16:33 2021\n",
            "Here is the calendar:\n",
            "    January 2008\n",
            "Mo Tu We Th Fr Sa Su\n",
            "    1  2  3  4  5  6\n",
            " 7  8  9 10 11 12 13\n",
            "14 15 16 17 18 19 20\n",
            "21 22 23 24 25 26 27\n",
            "28 29 30 31\n",
            "\n"
          ]
        }
      ]
    }
  ]
}