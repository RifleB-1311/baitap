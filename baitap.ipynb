{
  "nbformat": 4,
  "nbformat_minor": 0,
  "metadata": {
    "colab": {
      "name": "baitap.ipynb",
      "provenance": [],
      "authorship_tag": "ABX9TyMB7oNqNqVseJd5PP7N4ISl",
      "include_colab_link": true
    },
    "kernelspec": {
      "name": "python3",
      "display_name": "Python 3"
    },
    "language_info": {
      "name": "python"
    }
  },
  "cells": [
    {
      "cell_type": "markdown",
      "metadata": {
        "id": "view-in-github",
        "colab_type": "text"
      },
      "source": [
        "<a href=\"https://colab.research.google.com/github/RifleB-1311/baitap/blob/main/baitap.ipynb\" target=\"_parent\"><img src=\"https://colab.research.google.com/assets/colab-badge.svg\" alt=\"Open In Colab\"/></a>"
      ]
    },
    {
      "cell_type": "code",
      "metadata": {
        "colab": {
          "base_uri": "https://localhost:8080/"
        },
        "id": "rGGUdm6SZ0y6",
        "outputId": "5e098443-3297-48b4-b8aa-1001e312525e"
      },
      "source": [
        "a=loanAmount = 500000000\n",
        "b=monthlyInterestRate = 0.1\n",
        "c=numberofyears = 2\n",
        "d=monthlypayment= (a*x)/(1-1/((1+b)**(c*12)))\n",
        "print(\"Kết quả số tiền hàng tháng phải trả là:\",z)"
      ],
      "execution_count": 8,
      "outputs": [
        {
          "output_type": "stream",
          "name": "stdout",
          "text": [
            "Kết quả số tiền hàng tháng phải trả là: 55649888.17534389\n"
          ]
        }
      ]
    },
    {
      "cell_type": "code",
      "metadata": {
        "colab": {
          "base_uri": "https://localhost:8080/"
        },
        "id": "9yRjp5o-cRO2",
        "outputId": "3dec3b0a-ff78-44ab-a825-571a048d8711"
      },
      "source": [
        "#tính khoảng cách giữa 2 tọa độ\n",
        "import math\n",
        "#x(x1,x2)\n",
        "x1=float(input(\"Nhập x1: \"))\n",
        "x2=float(input(\"Nhập x2: \"))\n",
        "#y(y1,y2)\n",
        "y1=float(input(\"Nhập y1: \"))\n",
        "y2=float(input(\"Nhập y2; \"))\n",
        "#tính khoảng cách xy\n",
        "khoangcach = math.sqrt((y1-x1)**2+(y2-x2)**2)\n",
        "print(\"Khoảng cách giữa 2 tọa độ là: \", khoangcach)\n"
      ],
      "execution_count": 14,
      "outputs": [
        {
          "output_type": "stream",
          "name": "stdout",
          "text": [
            "Nhập x1: 1\n",
            "Nhập x2: 2\n",
            "Nhập y1: 3\n",
            "Nhập y2; 4\n",
            "Khoảng cách giữa 2 tọa độ là:  2.8284271247461903\n"
          ]
        }
      ]
    }
  ]
}